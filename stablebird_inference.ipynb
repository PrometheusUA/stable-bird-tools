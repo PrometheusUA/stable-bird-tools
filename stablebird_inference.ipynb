{
 "cells": [
  {
   "cell_type": "code",
   "execution_count": 1,
   "metadata": {},
   "outputs": [
    {
     "name": "stderr",
     "output_type": "stream",
     "text": [
      "/home/jovyan/miniconda3/envs/stableaudio/lib/python3.9/site-packages/tqdm/auto.py:21: TqdmWarning: IProgress not found. Please update jupyter and ipywidgets. See https://ipywidgets.readthedocs.io/en/stable/user_install.html\n",
      "  from .autonotebook import tqdm as notebook_tqdm\n"
     ]
    }
   ],
   "source": [
    "import os\n",
    "import json\n",
    "\n",
    "from stable_audio_tools.interface.gradio import load_model\n",
    "from stable_audio_tools.inference.generation import generate_diffusion_cond\n",
    "from stable_audio_tools.models.utils import load_ckpt_state_dict"
   ]
  },
  {
   "cell_type": "code",
   "execution_count": 2,
   "metadata": {},
   "outputs": [
    {
     "data": {
      "text/plain": [
       "True"
      ]
     },
     "execution_count": 2,
     "metadata": {},
     "output_type": "execute_result"
    }
   ],
   "source": [
    "os.path.exists('/home/jovyan/stable-bird-tools/stablebird_model_classcond_config.json')"
   ]
  },
  {
   "cell_type": "code",
   "execution_count": 3,
   "metadata": {},
   "outputs": [],
   "source": [
    "with open('/home/jovyan/stable-bird-tools/stablebird_model_classcond_config.json') as f:\n",
    "    model_config = json.load(f)"
   ]
  },
  {
   "cell_type": "code",
   "execution_count": 4,
   "metadata": {},
   "outputs": [
    {
     "name": "stdout",
     "output_type": "stream",
     "text": [
      "Creating model from config\n",
      "No module named 'flash_attn'\n",
      "flash_attn not installed, disabling Flash Attention\n"
     ]
    },
    {
     "name": "stderr",
     "output_type": "stream",
     "text": [
      "/home/jovyan/miniconda3/envs/stableaudio/lib/python3.9/site-packages/torch/nn/utils/weight_norm.py:134: FutureWarning: `torch.nn.utils.weight_norm` is deprecated in favor of `torch.nn.utils.parametrizations.weight_norm`.\n",
      "  WeightNorm.apply(module, name, dim)\n"
     ]
    },
    {
     "name": "stdout",
     "output_type": "stream",
     "text": [
      "Loading model checkpoint from /home/jovyan/stable-bird-tools/stablebird_unwrap_3250_after250.ckpt\n",
      "Copied 746 modules state dicts from pretrained (that had 746 modules)\n",
      "Done loading model\n"
     ]
    }
   ],
   "source": [
    "model, model_config = load_model(model_config=model_config, \n",
    "                                 model_ckpt_path='/home/jovyan/stable-bird-tools/stablebird_unwrap_3250_after250.ckpt', \n",
    "                                 device=\"cuda\", model_half=True)"
   ]
  },
  {
   "cell_type": "code",
   "execution_count": 14,
   "metadata": {},
   "outputs": [
    {
     "name": "stdout",
     "output_type": "stream",
     "text": [
      "163780604\n"
     ]
    },
    {
     "name": "stderr",
     "output_type": "stream",
     "text": [
      " 99%|█████████▉| 248/250 [00:26<00:00, 10.00it/s]/home/jovyan/miniconda3/envs/stableaudio/lib/python3.9/site-packages/torchsde/_brownian/brownian_interval.py:599: UserWarning: Should have ta>=t0 but got ta=0.009999999776482582 and t0=0.01.\n",
      "  warnings.warn(f\"Should have ta>=t0 but got ta={ta} and t0={self._start}.\")\n",
      "100%|██████████| 250/250 [00:26<00:00,  9.43it/s]\n"
     ]
    }
   ],
   "source": [
    "bs = 10\n",
    "gen = generate_diffusion_cond(model, \n",
    "        steps = 250,\n",
    "        cfg_scale=6,\n",
    "        conditioning = [{\"class\": 0, \"seconds_start\": 0, \"seconds_total\": 10.}] * bs,\n",
    "        batch_size = bs,\n",
    "        sample_size=441000,\n",
    "        sample_rate=44100,\n",
    "        seed = -1,\n",
    "        device = \"cuda\",\n",
    "        return_latents = False,)"
   ]
  },
  {
   "cell_type": "code",
   "execution_count": 15,
   "metadata": {},
   "outputs": [
    {
     "data": {
      "text/plain": [
       "torch.Size([10, 2, 440320])"
      ]
     },
     "execution_count": 15,
     "metadata": {},
     "output_type": "execute_result"
    }
   ],
   "source": [
    "gen.shape"
   ]
  },
  {
   "cell_type": "code",
   "execution_count": 19,
   "metadata": {},
   "outputs": [
    {
     "data": {
      "text/plain": [
       "array([[ 0.02747 ,  0.04935 ,  0.05923 , ...,  0.01309 ,  0.02647 ,\n",
       "         0.002851],\n",
       "       [-0.01675 , -0.0793  , -0.09546 , ..., -0.1066  , -0.0824  ,\n",
       "        -0.0901  ]], dtype=float16)"
      ]
     },
     "execution_count": 19,
     "metadata": {},
     "output_type": "execute_result"
    }
   ],
   "source": [
    "gen[0].cpu().numpy()"
   ]
  },
  {
   "cell_type": "code",
   "execution_count": null,
   "metadata": {},
   "outputs": [],
   "source": []
  }
 ],
 "metadata": {
  "kernelspec": {
   "display_name": "stableaudio",
   "language": "python",
   "name": "python3"
  },
  "language_info": {
   "codemirror_mode": {
    "name": "ipython",
    "version": 3
   },
   "file_extension": ".py",
   "mimetype": "text/x-python",
   "name": "python",
   "nbconvert_exporter": "python",
   "pygments_lexer": "ipython3",
   "version": "3.9.21"
  }
 },
 "nbformat": 4,
 "nbformat_minor": 2
}
